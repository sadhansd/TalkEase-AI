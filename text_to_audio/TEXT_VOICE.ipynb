{
 "cells": [
  {
   "cell_type": "code",
   "execution_count": 1,
   "id": "645b3627",
   "metadata": {},
   "outputs": [
    {
     "name": "stdout",
     "output_type": "stream",
     "text": [
      "Defaulting to user installation because normal site-packages is not writeable\n",
      "Requirement already satisfied: gTTS in c:\\users\\admin\\appdata\\roaming\\python\\python310\\site-packages (2.3.2)\n",
      "Requirement already satisfied: requests<3,>=2.27 in f:\\anaconda\\lib\\site-packages (from gTTS) (2.28.1)\n",
      "Requirement already satisfied: click<8.2,>=7.1 in f:\\anaconda\\lib\\site-packages (from gTTS) (8.0.4)\n",
      "Requirement already satisfied: colorama in f:\\anaconda\\lib\\site-packages (from click<8.2,>=7.1->gTTS) (0.4.6)\n",
      "Requirement already satisfied: urllib3<1.27,>=1.21.1 in f:\\anaconda\\lib\\site-packages (from requests<3,>=2.27->gTTS) (1.26.14)\n",
      "Requirement already satisfied: idna<4,>=2.5 in f:\\anaconda\\lib\\site-packages (from requests<3,>=2.27->gTTS) (3.4)\n",
      "Requirement already satisfied: charset-normalizer<3,>=2 in f:\\anaconda\\lib\\site-packages (from requests<3,>=2.27->gTTS) (2.0.4)\n",
      "Requirement already satisfied: certifi>=2017.4.17 in f:\\anaconda\\lib\\site-packages (from requests<3,>=2.27->gTTS) (2023.5.7)\n",
      "Note: you may need to restart the kernel to use updated packages.\n"
     ]
    }
   ],
   "source": [
    "pip install gTTS\n"
   ]
  },
  {
   "cell_type": "code",
   "execution_count": 2,
   "id": "ae6c41f8",
   "metadata": {},
   "outputs": [
    {
     "name": "stdout",
     "output_type": "stream",
     "text": [
      "Defaulting to user installation because normal site-packages is not writeable\n",
      "Requirement already satisfied: pyttsx3 in c:\\users\\admin\\appdata\\roaming\\python\\python310\\site-packages (2.90)\n",
      "Requirement already satisfied: pypiwin32 in c:\\users\\admin\\appdata\\roaming\\python\\python310\\site-packages (from pyttsx3) (223)\n",
      "Requirement already satisfied: comtypes in c:\\users\\admin\\appdata\\roaming\\python\\python310\\site-packages (from pyttsx3) (1.2.0)\n",
      "Requirement already satisfied: pywin32 in f:\\anaconda\\lib\\site-packages (from pyttsx3) (305.1)\n",
      "Note: you may need to restart the kernel to use updated packages.\n"
     ]
    }
   ],
   "source": [
    "pip install pyttsx3"
   ]
  },
  {
   "cell_type": "code",
   "execution_count": 3,
   "id": "6010d022",
   "metadata": {},
   "outputs": [],
   "source": [
    "from gtts import gTTS\n",
    "import os\n",
    "import pyttsx3"
   ]
  },
  {
   "cell_type": "code",
   "execution_count": 4,
   "id": "cca4d41e",
   "metadata": {},
   "outputs": [],
   "source": [
    "# Text you want to convert to speech\n",
    "text_to_convert = \"Hello, Welcome.\"\n",
    "\n",
    "# Initialize the gTTS object\n",
    "tts = gTTS(text=text_to_convert, lang='en')  # 'en' stands for English\n",
    "\n",
    "# Save the converted audio to a file (you can change the file format if needed, e.g., 'output.mp3')\n",
    "output_file = \"output.mp3\"\n",
    "tts.save(output_file)\n",
    "\n",
    "# Initialize the text-to-speech engine\n",
    "engine = pyttsx3.init()\n",
    "\n",
    "# Set properties (optional)\n",
    "engine.setProperty('rate', 150)  # Speed of speech (words per minute)\n",
    "engine.setProperty('volume', 1.0)  # Volume (0.0 to 1.0)\n",
    "\n",
    "# Convert and play the text as speech using pyttsx3\n",
    "engine.say(text_to_convert)\n",
    "engine.runAndWait()"
   ]
  },
  {
   "cell_type": "code",
   "execution_count": null,
   "id": "f6f71fff",
   "metadata": {},
   "outputs": [],
   "source": []
  }
 ],
 "metadata": {
  "kernelspec": {
   "display_name": "Python 3 (ipykernel)",
   "language": "python",
   "name": "python3"
  },
  "language_info": {
   "codemirror_mode": {
    "name": "ipython",
    "version": 3
   },
   "file_extension": ".py",
   "mimetype": "text/x-python",
   "name": "python",
   "nbconvert_exporter": "python",
   "pygments_lexer": "ipython3",
   "version": "3.10.9"
  }
 },
 "nbformat": 4,
 "nbformat_minor": 5
}
